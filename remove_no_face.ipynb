{
 "cells": [
  {
   "cell_type": "code",
   "execution_count": 3,
   "metadata": {},
   "outputs": [
    {
     "name": "stdout",
     "output_type": "stream",
     "text": [
      "WARNING:tensorflow:5 out of the last 41225 calls to <function Model.make_predict_function.<locals>.predict_function at 0x356625c60> triggered tf.function retracing. Tracing is expensive and the excessive number of tracings could be due to (1) creating @tf.function repeatedly in a loop, (2) passing tensors with different shapes, (3) passing Python objects instead of tensors. For (1), please define your @tf.function outside of the loop. For (2), @tf.function has reduce_retracing=True option that can avoid unnecessary retracing. For (3), please refer to https://www.tensorflow.org/guide/function#controlling_retracing and https://www.tensorflow.org/api_docs/python/tf/function for  more details.\n",
      "5873\n",
      "518\n"
     ]
    }
   ],
   "source": [
    "import cv2\n",
    "import os\n",
    "import mtcnn\n",
    "import mtcnn\n",
    "face_detector = mtcnn.MTCNN()\n",
    "# Clean the data if face is not present in image\n",
    "def is_face_present(image_path):\n",
    "    image = cv2.imread(image_path)\n",
    "    image = cv2.cvtColor(image, cv2.COLOR_BGR2RGB) \n",
    "    detected_faces = face_detector.detect_faces(image)\n",
    "\n",
    "    for face in detected_faces:\n",
    "        if face['confidence'] >= 0.9:\n",
    "            return True\n",
    "    return False\n",
    "\n",
    "def remove_images_without_face(folder_path):\n",
    "    no_face_images = []\n",
    "    count = 0\n",
    "    for folder in os.listdir(folder_path):\n",
    "        class_path = os.path.join(folder_path, folder)\n",
    "        if not os.path.isdir(class_path):\n",
    "            continue\n",
    "        for filename in os.listdir(class_path):\n",
    "            if not filename.endswith(('.png', '.jpg', '.jpeg')):\n",
    "                continue\n",
    "            count += 1\n",
    "            image_path = os.path.join(class_path, filename)\n",
    "            if not is_face_present(image_path):\n",
    "                no_face_images.append(filename)\n",
    "                os.remove(image_path)\n",
    "    print(count)\n",
    "    print(len(no_face_images))\n",
    "\n",
    "folder_path = 'data2'\n",
    "blurry_images_removed = remove_images_without_face(folder_path)"
   ]
  }
 ],
 "metadata": {
  "kernelspec": {
   "display_name": "Python 3",
   "language": "python",
   "name": "python3"
  },
  "language_info": {
   "codemirror_mode": {
    "name": "ipython",
    "version": 3
   },
   "file_extension": ".py",
   "mimetype": "text/x-python",
   "name": "python",
   "nbconvert_exporter": "python",
   "pygments_lexer": "ipython3",
   "version": "3.11.5"
  }
 },
 "nbformat": 4,
 "nbformat_minor": 2
}
